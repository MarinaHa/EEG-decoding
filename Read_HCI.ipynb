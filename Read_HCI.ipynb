{
 "cells": [
  {
   "cell_type": "code",
   "execution_count": 2,
   "metadata": {},
   "outputs": [],
   "source": [
    "import xml.etree.ElementTree as ET\n",
    "import os\n",
    "import os.path \n",
    "import pandas as pd\n",
    "import numpy as np\n",
    "import pyedflib\n",
    "import matplotlib.pyplot as plt\n",
    "import mne\n",
    "import braindecode"
   ]
  },
  {
   "cell_type": "code",
   "execution_count": 3,
   "metadata": {},
   "outputs": [],
   "source": [
    "# FUNCTIONS\n",
    "\n",
    "def get_sig(fname, ch):\n",
    "    \n",
    "    '''\n",
    "    Returns signal of the desired channel ch in BDF file fname\n",
    "    '''\n",
    "    \n",
    "    with pyedflib.EdfReader(fname) as f: \n",
    "        \n",
    "        file_dur=f.getFileDuration()\n",
    "\n",
    "        header=f.getSignalHeader(ch)\n",
    "        print(header['label'])\n",
    "        sig=f.readSignal(ch)\n",
    "    \n",
    "    return sig\n",
    "\n",
    "\n",
    "\n",
    "import subprocess\n",
    "\n",
    "def find_files(file_name):\n",
    "    \n",
    "    '''\n",
    "    Ubuntu: finds the indicated file and returns a list of all \n",
    "    subdirectories that contain file of name file_name\n",
    "    '''\n",
    "    \n",
    "    command = ['locate', file_name]\n",
    "\n",
    "    output = subprocess.Popen(command, stdout=subprocess.PIPE).communicate()[0]\n",
    "    output = output.decode()\n",
    "\n",
    "    search_results = output.split('\\n')\n",
    "\n",
    "    return search_results\n",
    "\n",
    "\n",
    "# Experiment-specific functions\n",
    "\n",
    "def map2arsl(feltEmo): \n",
    "    \n",
    "    '''\n",
    "    map the feltEmo to level of arousal: 0 - calm, 1 - medium arousal, 2 - excited/activated\n",
    "    '''\n",
    "    if feltEmo == None: \n",
    "        arslclass = None\n",
    "        \n",
    "    else: \n",
    "        feltEmo = int(feltEmo)\n",
    "        \n",
    "        if feltEmo == 0 or feltEmo == 5 or feltEmo == 2:  \n",
    "            arslclass = int(0)\n",
    "\n",
    "        elif feltEmo == 4 or feltEmo == 11: \n",
    "            arslclass = int(1)\n",
    "\n",
    "        elif feltEmo == 6 or feltEmo == 3 or feltEmo == 1 or feltEmo == 12: \n",
    "            arslclass = int(2)\n",
    "\n",
    "        else: \n",
    "            arslclass = None\n",
    "    \n",
    "    return arslclass\n",
    "\n",
    "\n",
    "def map2vlnc(feltEmo): \n",
    "    \n",
    "    '''\n",
    "    map the feltEmo to level of valence: 1 - unpleasant, 2 - neutral valence, 3 - pleasant\n",
    "    '''\n",
    "    if feltEmo == None:\n",
    "        vlncclass = None\n",
    "        \n",
    "    else: \n",
    "        feltEmo = int(feltEmo)\n",
    "        \n",
    "        if feltEmo == 3 or feltEmo == 1 or feltEmo == 2 or feltEmo == 5 or feltEmo == 12:  \n",
    "            vlncclass = int(0)\n",
    "\n",
    "        elif feltEmo == 6 or feltEmo == 0: \n",
    "            vlncclass = int(1)\n",
    "\n",
    "        elif feltEmo == 4 or feltEmo == 11: \n",
    "            vlncclass = int(2)\n",
    "        \n",
    "        else: \n",
    "            vlncclass = None\n",
    "    \n",
    "    return vlncclass\n",
    "    "
   ]
  },
  {
   "cell_type": "code",
   "execution_count": 4,
   "metadata": {},
   "outputs": [],
   "source": [
    "### Read in XML/Experiment information\n",
    "\n",
    "rootdir = \"/home/hader/Documents/EEG_Datasets_Emotion/HCI/Sessions\" # Directory with all subfolders of experiment\n",
    "\n",
    "# Create a list to store information on experiments\n",
    "info_list = []\n",
    "\n",
    "# Look for all xml files\n",
    "for dirpath, dirnames, filenames in os.walk(rootdir):\n",
    "    \n",
    "    for filenamexml in [f for f in filenames if f.endswith(\"session.xml\")]: \n",
    "        \n",
    "        filepath = os.path.join(dirpath, filenamexml)\n",
    "\n",
    "        with open(filepath, \"rt\") as file: # parse xml file\n",
    "            file_string = file.read()\n",
    "            tree = ET.fromstring(file_string)\n",
    "            \n",
    "            \n",
    "            sessionID = tree.get('sessionId') # extract available information from xml tree\n",
    "            experimentType = tree.get('experimentType')\n",
    "            isStim = tree.get('isStim')\n",
    "            feltEmo = tree.get('feltEmo')\n",
    "            feltArsl = tree.get('feltArsl')\n",
    "            feltVlnc = tree.get('feltVlnc') \n",
    "            feltCtrl= tree.get('feltCtrl') \n",
    "            feltPred= tree.get('feltPred') \n",
    "            cutNr= tree.get('cutNr') \n",
    "            cutLenSec= tree.get('cutLenSec') \n",
    "    \n",
    "            subject = tree.findall('./subject')\n",
    "            subjectID = subject[0].get('id')\n",
    "            \n",
    "            # Find name of corresponding BDF file\n",
    "            tracks = tree.findall('./track')\n",
    "            for track in tracks: \n",
    "                if track.get('type') == 'Physiological':\n",
    "                    bdf_filename_from_xml = track.get('filename')\n",
    "            \n",
    "                    \n",
    "            dict1 = {}\n",
    "            dict1['sessionID'] =  sessionID\n",
    "            dict1['subjectID'] = subjectID\n",
    "            dict1['experimentType'] = experimentType\n",
    "            dict1['EEGFile according to xml'] = bdf_filename_from_xml\n",
    "            dict1['isStim'] = int(isStim)\n",
    "            dict1['path'] = dirpath[-20:]\n",
    "            dict1['feltEmo'] = feltEmo\n",
    "            dict1['feltArsl'] = feltArsl\n",
    "            dict1['feltVlnc'] = feltVlnc\n",
    "            dict1['feltCtrl'] = feltCtrl\n",
    "            dict1['feltPred'] = feltPred\n",
    "            dict1['cutNr'] = int(cutNr)\n",
    "            dict1['cutLenSec'] = float(cutLenSec)\n",
    "\n",
    "            info_list.append(dict1)\n",
    "\n",
    "\n",
    "# Create dataframe out of info_list\n",
    "df = pd.DataFrame(info_list)   \n",
    "         "
   ]
  },
  {
   "cell_type": "code",
   "execution_count": 5,
   "metadata": {},
   "outputs": [],
   "source": [
    "# map numbers in feltEmo to emotion\n",
    "mapEmo = {0:'neutral', 1:'anger', 2:'disgust', 3:'fear', 4: 'joy, happiness', 5:'sadness', \n",
    "          6:'surprise', 7:'scream', 8:'bored', 9:'sleepy', 10:'unknown', 11:'amusement', 12:'anxiety'}\n",
    "\n",
    "# add column to dataframe with arousal level according to feltEmo\n",
    "arslList= [map2arsl(emo) for emo in df['feltEmo']]\n",
    "df['arslLevel'] = arslList\n",
    "\n",
    "# add column to dataframe with valence level according to feltEmo \n",
    "vlncList = [map2vlnc(emo) for emo in df['feltEmo']]\n",
    "df['vlnceList'] = vlncList\n"
   ]
  },
  {
   "cell_type": "code",
   "execution_count": 7,
   "metadata": {},
   "outputs": [
    {
     "name": "stdout",
     "output_type": "stream",
     "text": [
      "Number of stimulated trials: 332\n",
      "\n",
      "Number of trials with emotion recorded: 294\n",
      "\n",
      "Overview of emotion frequency: \n",
      "4     56\n",
      "0     49\n",
      "11    43\n",
      "2     39\n",
      "5     35\n",
      "3     23\n",
      "12    23\n",
      "6     16\n",
      "1     10\n",
      "Name: feltEmo, dtype: int64\n",
      "\n"
     ]
    }
   ],
   "source": [
    "print('Number of stimulated trials: ' + str(np.sum(df['isStim'])) + '\\n')\n",
    "print('Number of trials with emotion recorded: ' + str(np.sum(df['feltEmo'].value_counts())) + '\\n')\n",
    "print('Overview of emotion frequency: \\n' + str(df['feltEmo'].value_counts()) + '\\n')\n",
    "#print('Overview of subjects and corresponding no. of trials: \\n' + str(df['subjectID'].value_counts()))"
   ]
  },
  {
   "cell_type": "code",
   "execution_count": null,
   "metadata": {},
   "outputs": [],
   "source": []
  },
  {
   "cell_type": "code",
   "execution_count": 57,
   "metadata": {},
   "outputs": [
    {
     "name": "stdout",
     "output_type": "stream",
     "text": [
      "PO4\n"
     ]
    }
   ],
   "source": [
    "ch30 = get_sig('/home/hader/Documents/EEG_Datasets_Emotion/HCI/Sessions/3/Part_1_N_Trial2_emotion.bdf', 30)"
   ]
  },
  {
   "cell_type": "code",
   "execution_count": 58,
   "metadata": {},
   "outputs": [
    {
     "data": {
      "image/png": "[encoded data removed]",
      "text/plain": [
       "<matplotlib.figure.Figure at 0x7fd1a32050b8>"
      ]
     },
     "metadata": {},
     "output_type": "display_data"
    }
   ],
   "source": [
    "plt.plot(ch30[:17500])\n",
    "plt.show()"
   ]
  },
  {
   "cell_type": "code",
   "execution_count": null,
   "metadata": {},
   "outputs": [],
   "source": [
    "find_files('Part_10_N_Trial15_emotion.bdf')"
   ]
  },
  {
   "cell_type": "code",
   "execution_count": 10,
   "metadata": {
    "collapsed": true
   },
   "outputs": [],
   "source": [
    "            #for File in os.listdir(dirpath):\n",
    "             #   if File.endswith(\".bdf\"):\n",
    "              #      EEGFile = File\n",
    "               #     count_bdf += 1\n",
    "                #else:\n",
    "                 #   EEGFile = 'None'"
   ]
  }
 ],
 "metadata": {
  "kernelspec": {
   "display_name": "Python 3",
   "language": "python",
   "name": "python3"
  },
  "language_info": {
   "codemirror_mode": {
    "name": "ipython",
    "version": 3
   },
   "file_extension": ".py",
   "mimetype": "text/x-python",
   "name": "python",
   "nbconvert_exporter": "python",
   "pygments_lexer": "ipython3",
   "version": "3.6.3"
  }
 },
 "nbformat": 4,
 "nbformat_minor": 2
}
